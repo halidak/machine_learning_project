{
 "cells": [
  {
   "cell_type": "code",
   "execution_count": 1,
   "metadata": {},
   "outputs": [
    {
     "name": "stderr",
     "output_type": "stream",
     "text": [
      "c:\\Users\\halid\\AppData\\Local\\Programs\\Python\\Python312\\Lib\\site-packages\\sdv\\single_table\\base.py:86: UserWarning: We strongly recommend saving the metadata using 'save_to_json' for replicability in future SDV versions.\n",
      "  warnings.warn(\n"
     ]
    },
    {
     "name": "stdout",
     "output_type": "stream",
     "text": [
      "   Mean_Integrated        EK  Skewness  Mean_DMSNR_Curve  SD_DMSNR_Curve  \\\n",
      "0        83.131870  6.230599  0.887039         10.911503       44.625951   \n",
      "1       101.959046  1.979490  1.524351          1.390901       11.103681   \n",
      "2       119.172440  1.237116 -0.176335          1.966108       12.285614   \n",
      "3       126.079560  0.448192  0.015421          9.143150       42.588633   \n",
      "4       103.797877  2.454006  0.533220          3.853749       22.831498   \n",
      "\n",
      "   EK_DMSNR_Curve  Skewness_DMSNR_Curve  Class  \n",
      "0        4.962343             25.752572      1  \n",
      "1       17.766922            343.562273      0  \n",
      "2       11.383677            156.098501      0  \n",
      "3        3.092808             11.220064      0  \n",
      "4        5.504571             57.558588      1  \n",
      "Kombinovani skup podataka je sačuvan u ../dataset/combined_data5.csv\n"
     ]
    }
   ],
   "source": [
    "import pandas as pd\n",
    "from sdv.single_table import CTGANSynthesizer\n",
    "from sdv.metadata import SingleTableMetadata\n",
    "\n",
    "# ucitavanje dataset-a\n",
    "file_path = '../dataset/Pulsar_cleaned.csv'\n",
    "data = pd.read_csv(file_path)\n",
    "\n",
    "# generisanje metadata automatski iz podataka\n",
    "metadata = SingleTableMetadata()\n",
    "metadata.detect_from_dataframe(data)\n",
    "\n",
    "# inicijalizacija CTGAN sintetizatora sa smanjenim brojem epoha\n",
    "synthesizer = CTGANSynthesizer(metadata, epochs=200)\n",
    "\n",
    "# treniranje modela na podacima\n",
    "synthesizer.fit(data)\n",
    "\n",
    "# generisanje novih podataka\n",
    "num_samples = 50\n",
    "synthetic_data = synthesizer.sample(num_samples)\n",
    "\n",
    "# prikaz prvih nekoliko redova sintetičkih podataka\n",
    "print(synthetic_data.head())\n",
    "\n",
    "# cuvanje podataka u csv\n",
    "synthetic_data.to_csv('../dataset/synthetic_data5.csv', index=False)\n",
    "\n",
    "# Kombinovanje originalnih i sintetičkih podataka\n",
    "combined_data = pd.concat([data, synthetic_data], ignore_index=True)\n",
    "\n",
    "# Čuvanje kombinovanog skupa podataka u CSV\n",
    "combined_file_path = '../dataset/combined_data5.csv'\n",
    "combined_data.to_csv(combined_file_path, index=False)\n",
    "\n",
    "print(f'Kombinovani skup podataka je sačuvan u {combined_file_path}')\n"
   ]
  }
 ],
 "metadata": {
  "kernelspec": {
   "display_name": "Python 3",
   "language": "python",
   "name": "python3"
  },
  "language_info": {
   "codemirror_mode": {
    "name": "ipython",
    "version": 3
   },
   "file_extension": ".py",
   "mimetype": "text/x-python",
   "name": "python",
   "nbconvert_exporter": "python",
   "pygments_lexer": "ipython3",
   "version": "3.12.0"
  }
 },
 "nbformat": 4,
 "nbformat_minor": 2
}
