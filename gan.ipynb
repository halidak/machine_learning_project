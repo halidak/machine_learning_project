{
 "cells": [
  {
   "cell_type": "code",
   "execution_count": 1,
   "metadata": {},
   "outputs": [
    {
     "name": "stderr",
     "output_type": "stream",
     "text": [
      "c:\\Users\\halid\\AppData\\Local\\Programs\\Python\\Python312\\Lib\\site-packages\\sdv\\single_table\\base.py:86: UserWarning: We strongly recommend saving the metadata using 'save_to_json' for replicability in future SDV versions.\n",
      "  warnings.warn(\n"
     ]
    },
    {
     "name": "stdout",
     "output_type": "stream",
     "text": [
      "   Mean_Integrated        EK  Skewness  Mean_DMSNR_Curve  SD_DMSNR_Curve  \\\n",
      "0        80.674496  1.159182  0.163625          5.383694       51.205358   \n",
      "1       118.355372  0.211923  0.401780          2.275006       20.729922   \n",
      "2       113.723424  0.960004 -0.101757          3.127683       38.580371   \n",
      "3       109.436454  0.498814  0.182049          8.386296       14.293475   \n",
      "4        97.514432  0.837424  1.816318          5.997759       62.141842   \n",
      "\n",
      "   EK_DMSNR_Curve  Skewness_DMSNR_Curve  Class  \n",
      "0        3.101667             -1.630794      1  \n",
      "1        0.624934             72.698980      0  \n",
      "2        6.299527             32.647822      0  \n",
      "3        3.628528             20.306694      0  \n",
      "4        7.105229              8.880876      1  \n"
     ]
    }
   ],
   "source": [
    "import pandas as pd\n",
    "from sdv.single_table import CTGANSynthesizer\n",
    "from sdv.metadata import SingleTableMetadata\n",
    "\n",
    "# ucitavanje dataset-a\n",
    "file_path = 'dataset/Pulsar_cleaned.csv'\n",
    "data = pd.read_csv(file_path)\n",
    "\n",
    "# generisanje metadata automatski iz podataka\n",
    "metadata = SingleTableMetadata()\n",
    "metadata.detect_from_dataframe(data)\n",
    "\n",
    "# inicijalizacija CTGAN sintetizatora sa smanjenim brojem epoha\n",
    "synthesizer = CTGANSynthesizer(metadata, epochs=10)\n",
    "\n",
    "# treniranje modela na podacima\n",
    "synthesizer.fit(data)\n",
    "\n",
    "# generisanje novih podataka\n",
    "num_samples = 500\n",
    "synthetic_data = synthesizer.sample(num_samples)\n",
    "\n",
    "# prikaz prvih nekoliko redova sintetičkih podataka\n",
    "print(synthetic_data.head())\n",
    "\n",
    "# cuvanje podataka u csv\n",
    "synthetic_data.to_csv('dataset/synthetic_data4.csv', index=False)\n"
   ]
  }
 ],
 "metadata": {
  "kernelspec": {
   "display_name": "Python 3",
   "language": "python",
   "name": "python3"
  },
  "language_info": {
   "codemirror_mode": {
    "name": "ipython",
    "version": 3
   },
   "file_extension": ".py",
   "mimetype": "text/x-python",
   "name": "python",
   "nbconvert_exporter": "python",
   "pygments_lexer": "ipython3",
   "version": "3.12.0"
  }
 },
 "nbformat": 4,
 "nbformat_minor": 2
}
