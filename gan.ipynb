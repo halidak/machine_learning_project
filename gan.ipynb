{
 "cells": [
  {
   "cell_type": "code",
   "execution_count": 19,
   "metadata": {},
   "outputs": [
    {
     "name": "stderr",
     "output_type": "stream",
     "text": [
      "c:\\Users\\halid\\AppData\\Local\\Programs\\Python\\Python312\\Lib\\site-packages\\sdv\\single_table\\base.py:86: UserWarning: We strongly recommend saving the metadata using 'save_to_json' for replicability in future SDV versions.\n",
      "  warnings.warn(\n"
     ]
    },
    {
     "name": "stdout",
     "output_type": "stream",
     "text": [
      "   Mean_Integrated        EK  Skewness  Mean_DMSNR_Curve  SD_DMSNR_Curve  \\\n",
      "0       110.759460  1.784133  0.068270          2.261206       13.850070   \n",
      "1       122.495951  0.635888  0.052525         14.278908       39.880202   \n",
      "2       126.338416  0.102831 -0.028385          3.570034       31.946689   \n",
      "3       120.689348  0.142946 -0.412894          7.106399       25.154280   \n",
      "4       105.608316  0.673426  0.918835          2.063243       22.620937   \n",
      "\n",
      "   EK_DMSNR_Curve  Skewness_DMSNR_Curve  Class  \n",
      "0        7.758862            104.716145      1  \n",
      "1        2.636837             26.481587      0  \n",
      "2        6.120349             47.374583      0  \n",
      "3        4.793688             51.343528      0  \n",
      "4       10.550877             77.316715      1  \n"
     ]
    }
   ],
   "source": [
    "import pandas as pd\n",
    "from sdv.single_table import CTGANSynthesizer\n",
    "from sdv.metadata import SingleTableMetadata\n",
    "\n",
    "# Učitavanje vašeg dataset-a\n",
    "file_path = 'dataset/Pulsar_cleaned.csv'\n",
    "data = pd.read_csv(file_path)\n",
    "\n",
    "# Generisanje metadata automatski iz podataka\n",
    "metadata = SingleTableMetadata()\n",
    "metadata.detect_from_dataframe(data)\n",
    "\n",
    "# Inicijalizacija CTGAN sintetizatora sa smanjenim brojem epoha\n",
    "synthesizer = CTGANSynthesizer(metadata, epochs=100)  # Smanjite broj epoha (npr. na 10)\n",
    "\n",
    "# Treniranje modela na vašim podacima\n",
    "synthesizer.fit(data)\n",
    "\n",
    "# Generisanje novih podataka\n",
    "num_samples = 500\n",
    "synthetic_data = synthesizer.sample(num_samples)\n",
    "\n",
    "# Prikaz prvih nekoliko redova sintetičkih podataka\n",
    "print(synthetic_data.head())\n",
    "\n",
    "# Sačuvajte sintetičke podatke u novi CSV fajl\n",
    "synthetic_data.to_csv('dataset/synthetic_data3.csv', index=False)\n"
   ]
  }
 ],
 "metadata": {
  "kernelspec": {
   "display_name": "Python 3",
   "language": "python",
   "name": "python3"
  },
  "language_info": {
   "codemirror_mode": {
    "name": "ipython",
    "version": 3
   },
   "file_extension": ".py",
   "mimetype": "text/x-python",
   "name": "python",
   "nbconvert_exporter": "python",
   "pygments_lexer": "ipython3",
   "version": "3.12.0"
  }
 },
 "nbformat": 4,
 "nbformat_minor": 2
}
