{
 "cells": [
  {
   "cell_type": "code",
   "execution_count": 2,
   "metadata": {},
   "outputs": [
    {
     "name": "stdout",
     "output_type": "stream",
     "text": [
      "   Mean_Integrated        EK  Skewness  Mean_DMSNR_Curve  SD_DMSNR_Curve  \\\n",
      "0       140.562500  1.502969 -0.699648          3.199833       19.110426   \n",
      "1       102.507812  0.788423 -0.515088          1.677258       14.860146   \n",
      "2       103.015625  0.323558  1.051164          3.121237       21.744669   \n",
      "3       136.750000  0.958983 -0.636238          3.642977       20.959280   \n",
      "4        88.726562  1.232198  1.123492          1.178930       11.468720   \n",
      "\n",
      "   EK_DMSNR_Curve  Skewness_DMSNR_Curve  Class  \n",
      "0        7.975532             74.242225      0  \n",
      "1       10.576487            127.393580      0  \n",
      "2        7.735822             63.171909      0  \n",
      "3        6.896499             53.593661      0  \n",
      "4       14.269573            252.567306      0  \n",
      "  Skup podataka   Tačnost     Odziv  Preciznost    F-mera\n",
      "0       Trening  0.984486  0.246862    0.907692  0.388158\n",
      "1          Test  0.980320  0.217391    0.750000  0.337079\n"
     ]
    },
    {
     "name": "stderr",
     "output_type": "stream",
     "text": [
      "c:\\Users\\halid\\AppData\\Local\\Programs\\Python\\Python312\\Lib\\site-packages\\sklearn\\linear_model\\_sag.py:350: ConvergenceWarning: The max_iter was reached which means the coef_ did not converge\n",
      "  warnings.warn(\n"
     ]
    }
   ],
   "source": [
    "import pandas as pd\n",
    "from sklearn.model_selection import train_test_split\n",
    "from sklearn.linear_model import LogisticRegression\n",
    "from sklearn.metrics import accuracy_score, recall_score, precision_score, f1_score\n",
    "\n",
    "# Učitavanje dataseta\n",
    "data = pd.read_csv('Pulsar_cleaned.csv')\n",
    "\n",
    "# Prikaz prvih nekoliko redova dataseta\n",
    "print(data.head())\n",
    "\n",
    "# Deljenje podataka na atributa i ciljne promenljive\n",
    "X = data.drop('Class', axis=1)\n",
    "y = data['Class']\n",
    "\n",
    "# Podela podataka na trening i test skup\n",
    "X_train, X_test, y_train, y_test = train_test_split(X, y, test_size=0.2, random_state=42)\n",
    "\n",
    "# Inicijalizacija modela\n",
    "model = LogisticRegression(max_iter=1000, solver='saga')\n",
    "\n",
    "# Treniranje modela\n",
    "model.fit(X_train, y_train)\n",
    "\n",
    "# Predviđanje na trening skupu\n",
    "y_train_pred = model.predict(X_train)\n",
    "\n",
    "# Predviđanje na test skupu\n",
    "y_test_pred = model.predict(X_test)\n",
    "\n",
    "# Izračunavanje metrika za trening skup\n",
    "train_accuracy = accuracy_score(y_train, y_train_pred)\n",
    "train_recall = recall_score(y_train, y_train_pred)\n",
    "train_precision = precision_score(y_train, y_train_pred)\n",
    "train_f1 = f1_score(y_train, y_train_pred)\n",
    "\n",
    "# Izračunavanje metrika za test skup\n",
    "test_accuracy = accuracy_score(y_test, y_test_pred)\n",
    "test_recall = recall_score(y_test, y_test_pred)\n",
    "test_precision = precision_score(y_test, y_test_pred)\n",
    "test_f1 = f1_score(y_test, y_test_pred)\n",
    "\n",
    "# Tabelarni prikaz metrika\n",
    "results = pd.DataFrame({\n",
    "    'Skup podataka': ['Trening', 'Test'],\n",
    "    'Tačnost': [train_accuracy, test_accuracy],\n",
    "    'Odziv': [train_recall, test_recall],\n",
    "    'Preciznost': [train_precision, test_precision],\n",
    "    'F-mera': [train_f1, test_f1]\n",
    "})\n",
    "print(results)\n"
   ]
  }
 ],
 "metadata": {
  "kernelspec": {
   "display_name": "Python 3",
   "language": "python",
   "name": "python3"
  },
  "language_info": {
   "codemirror_mode": {
    "name": "ipython",
    "version": 3
   },
   "file_extension": ".py",
   "mimetype": "text/x-python",
   "name": "python",
   "nbconvert_exporter": "python",
   "pygments_lexer": "ipython3",
   "version": "3.12.0"
  }
 },
 "nbformat": 4,
 "nbformat_minor": 2
}
