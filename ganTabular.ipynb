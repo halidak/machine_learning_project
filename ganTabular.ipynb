{
 "cells": [
  {
   "cell_type": "code",
   "execution_count": 1,
   "metadata": {},
   "outputs": [
    {
     "name": "stderr",
     "output_type": "stream",
     "text": [
      "c:\\Users\\halid\\AppData\\Local\\Programs\\Python\\Python312\\Lib\\site-packages\\sdv\\single_table\\base.py:86: UserWarning: We strongly recommend saving the metadata using 'save_to_json' for replicability in future SDV versions.\n",
      "  warnings.warn(\n"
     ]
    },
    {
     "name": "stdout",
     "output_type": "stream",
     "text": [
      "   Mean_Integrated        EK  Skewness  Mean_DMSNR_Curve  SD_DMSNR_Curve  \\\n",
      "0       102.438958  0.914090  1.044357          0.650502       17.118360   \n",
      "1       109.960276  0.355935 -0.207037          1.015932       19.048721   \n",
      "2       120.472751  2.128724  0.578923          2.581804       44.258701   \n",
      "3       115.427146  0.000038 -0.462850          6.427987       14.607200   \n",
      "4        89.451707  0.879196  1.379282          1.054586       19.907191   \n",
      "\n",
      "   EK_DMSNR_Curve  Skewness_DMSNR_Curve  Class  \n",
      "0        8.331741             41.629680      1  \n",
      "1        7.921758             88.131647      0  \n",
      "2        6.902514            184.637425      0  \n",
      "3        4.308635            134.624379      0  \n",
      "4       12.451129             18.129039      1  \n"
     ]
    }
   ],
   "source": [
    "import pandas as pd\n",
    "from sdv.single_table import CTGANSynthesizer\n",
    "from sdv.metadata import SingleTableMetadata\n",
    "\n",
    "# ucitavanje dataset-a\n",
    "file_path = 'dataset/Pulsar_cleaned.csv'\n",
    "data = pd.read_csv(file_path)\n",
    "\n",
    "# generisanje metadata automatski iz podataka\n",
    "metadata = SingleTableMetadata()\n",
    "metadata.detect_from_dataframe(data)\n",
    "\n",
    "# inicijalizacija CTGAN sintetizatora sa smanjenim brojem epoha\n",
    "synthesizer = CTGANSynthesizer(metadata, epochs=10)\n",
    "\n",
    "# treniranje modela na podacima\n",
    "synthesizer.fit(data)\n",
    "\n",
    "# generisanje novih podataka\n",
    "num_samples = 50\n",
    "synthetic_data = synthesizer.sample(num_samples)\n",
    "\n",
    "# prikaz prvih nekoliko redova sintetičkih podataka\n",
    "print(synthetic_data.head())\n",
    "\n",
    "# cuvanje podataka u csv\n",
    "synthetic_data.to_csv('dataset/synthetic_data5.csv', index=False)\n"
   ]
  }
 ],
 "metadata": {
  "kernelspec": {
   "display_name": "Python 3",
   "language": "python",
   "name": "python3"
  },
  "language_info": {
   "codemirror_mode": {
    "name": "ipython",
    "version": 3
   },
   "file_extension": ".py",
   "mimetype": "text/x-python",
   "name": "python",
   "nbconvert_exporter": "python",
   "pygments_lexer": "ipython3",
   "version": "3.12.0"
  }
 },
 "nbformat": 4,
 "nbformat_minor": 2
}
